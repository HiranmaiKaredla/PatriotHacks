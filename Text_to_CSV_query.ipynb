{
  "nbformat": 4,
  "nbformat_minor": 0,
  "metadata": {
    "colab": {
      "provenance": [],
      "authorship_tag": "ABX9TyPmSIYLVgwjsC9Fa4rlRohX",
      "include_colab_link": true
    },
    "kernelspec": {
      "name": "python3",
      "display_name": "Python 3"
    },
    "language_info": {
      "name": "python"
    }
  },
  "cells": [
    {
      "cell_type": "markdown",
      "metadata": {
        "id": "view-in-github",
        "colab_type": "text"
      },
      "source": [
        "<a href=\"https://colab.research.google.com/github/HiranmaiKaredla/PatriotHacks/blob/main/Text_to_CSV_query.ipynb\" target=\"_parent\"><img src=\"https://colab.research.google.com/assets/colab-badge.svg\" alt=\"Open In Colab\"/></a>"
      ]
    },
    {
      "cell_type": "code",
      "source": [],
      "metadata": {
        "id": "TyM3_zE4WK3g"
      },
      "execution_count": null,
      "outputs": []
    },
    {
      "cell_type": "code",
      "execution_count": 1,
      "metadata": {
        "id": "6qPtebOWGYFl"
      },
      "outputs": [],
      "source": [
        "import getpass\n",
        "import os\n",
        "\n",
        "os.environ[\"OPENAI_API_KEY\"] = \"\""
      ]
    },
    {
      "cell_type": "code",
      "source": [
        "#!wget https://web.stanford.edu/class/archive/cs/cs109/cs109.1166/stuff/titanic.csv -O titanic.csv"
      ],
      "metadata": {
        "id": "_DR87orYGqo6"
      },
      "execution_count": 2,
      "outputs": []
    },
    {
      "cell_type": "code",
      "source": [
        "import pandas as pd\n",
        "\n",
        "df = pd.read_csv(\"/content/apartments_for_rent_classified_10K.csv\", encoding=\"latin-1\", sep=\";\")\n",
        "print(df.shape)\n",
        "print(df.columns.tolist())"
      ],
      "metadata": {
        "colab": {
          "base_uri": "https://localhost:8080/"
        },
        "id": "OBXq9L2cIKLk",
        "outputId": "ebf14e2f-4959-43c5-d7e7-208748a8216c"
      },
      "execution_count": 3,
      "outputs": [
        {
          "output_type": "stream",
          "name": "stdout",
          "text": [
            "(10000, 22)\n",
            "['id', 'category', 'title', 'body', 'amenities', 'bathrooms', 'bedrooms', 'currency', 'fee', 'has_photo', 'pets_allowed', 'price', 'price_display', 'price_type', 'square_feet', 'address', 'cityname', 'state', 'latitude', 'longitude', 'source', 'time']\n"
          ]
        }
      ]
    },
    {
      "cell_type": "code",
      "source": [
        "df.head(5)"
      ],
      "metadata": {
        "colab": {
          "base_uri": "https://localhost:8080/",
          "height": 655
        },
        "id": "8ncFmo55gqJ-",
        "outputId": "cab2e770-c871-42a6-b724-50299b7e3f68"
      },
      "execution_count": 4,
      "outputs": [
        {
          "output_type": "execute_result",
          "data": {
            "text/plain": [
              "           id                category  \\\n",
              "0  5668626895  housing/rent/apartment   \n",
              "1  5664597177  housing/rent/apartment   \n",
              "2  5668626833  housing/rent/apartment   \n",
              "3  5659918074  housing/rent/apartment   \n",
              "4  5668626759  housing/rent/apartment   \n",
              "\n",
              "                                               title  \\\n",
              "0  Studio apartment 2nd St NE, Uhland Terrace NE,...   \n",
              "1                  Studio apartment 814 Schutte Road   \n",
              "2  Studio apartment N Scott St, 14th St N, Arling...   \n",
              "3                     Studio apartment 1717 12th Ave   \n",
              "4  Studio apartment Washington Blvd, N Cleveland ...   \n",
              "\n",
              "                                                body amenities  bathrooms  \\\n",
              "0  This unit is located at second St NE, Uhland T...       NaN        NaN   \n",
              "1  This unit is located at 814 Schutte Road, Evan...       NaN        NaN   \n",
              "2  This unit is located at N Scott St, 14th St N,...       NaN        1.0   \n",
              "3  This unit is located at 1717 12th Ave, Seattle...       NaN        1.0   \n",
              "4  This unit is located at Washington Blvd, N Cle...       NaN        NaN   \n",
              "\n",
              "   bedrooms currency fee  has_photo  ... price_display  price_type  \\\n",
              "0       0.0      USD  No  Thumbnail  ...          $790     Monthly   \n",
              "1       1.0      USD  No  Thumbnail  ...          $425     Monthly   \n",
              "2       0.0      USD  No  Thumbnail  ...        $1,390     Monthly   \n",
              "3       0.0      USD  No  Thumbnail  ...          $925     Monthly   \n",
              "4       0.0      USD  No  Thumbnail  ...          $880     Monthly   \n",
              "\n",
              "  square_feet           address    cityname state latitude longitude  \\\n",
              "0         101               NaN  Washington    DC  38.9057  -76.9861   \n",
              "1         106    814 Schutte Rd  Evansville    IN  37.9680  -87.6621   \n",
              "2         107               NaN   Arlington    VA  38.8910  -77.0816   \n",
              "3         116  1717 12th Avenue     Seattle    WA  47.6160 -122.3275   \n",
              "4         125               NaN   Arlington    VA  38.8738  -77.1055   \n",
              "\n",
              "      source        time  \n",
              "0  RentLingo  1577359415  \n",
              "1  RentLingo  1577017063  \n",
              "2  RentLingo  1577359410  \n",
              "3  RentLingo  1576667743  \n",
              "4  RentLingo  1577359401  \n",
              "\n",
              "[5 rows x 22 columns]"
            ],
            "text/html": [
              "\n",
              "  <div id=\"df-bd7f10ed-d022-42ce-b644-aca3f6792c92\" class=\"colab-df-container\">\n",
              "    <div>\n",
              "<style scoped>\n",
              "    .dataframe tbody tr th:only-of-type {\n",
              "        vertical-align: middle;\n",
              "    }\n",
              "\n",
              "    .dataframe tbody tr th {\n",
              "        vertical-align: top;\n",
              "    }\n",
              "\n",
              "    .dataframe thead th {\n",
              "        text-align: right;\n",
              "    }\n",
              "</style>\n",
              "<table border=\"1\" class=\"dataframe\">\n",
              "  <thead>\n",
              "    <tr style=\"text-align: right;\">\n",
              "      <th></th>\n",
              "      <th>id</th>\n",
              "      <th>category</th>\n",
              "      <th>title</th>\n",
              "      <th>body</th>\n",
              "      <th>amenities</th>\n",
              "      <th>bathrooms</th>\n",
              "      <th>bedrooms</th>\n",
              "      <th>currency</th>\n",
              "      <th>fee</th>\n",
              "      <th>has_photo</th>\n",
              "      <th>...</th>\n",
              "      <th>price_display</th>\n",
              "      <th>price_type</th>\n",
              "      <th>square_feet</th>\n",
              "      <th>address</th>\n",
              "      <th>cityname</th>\n",
              "      <th>state</th>\n",
              "      <th>latitude</th>\n",
              "      <th>longitude</th>\n",
              "      <th>source</th>\n",
              "      <th>time</th>\n",
              "    </tr>\n",
              "  </thead>\n",
              "  <tbody>\n",
              "    <tr>\n",
              "      <th>0</th>\n",
              "      <td>5668626895</td>\n",
              "      <td>housing/rent/apartment</td>\n",
              "      <td>Studio apartment 2nd St NE, Uhland Terrace NE,...</td>\n",
              "      <td>This unit is located at second St NE, Uhland T...</td>\n",
              "      <td>NaN</td>\n",
              "      <td>NaN</td>\n",
              "      <td>0.0</td>\n",
              "      <td>USD</td>\n",
              "      <td>No</td>\n",
              "      <td>Thumbnail</td>\n",
              "      <td>...</td>\n",
              "      <td>$790</td>\n",
              "      <td>Monthly</td>\n",
              "      <td>101</td>\n",
              "      <td>NaN</td>\n",
              "      <td>Washington</td>\n",
              "      <td>DC</td>\n",
              "      <td>38.9057</td>\n",
              "      <td>-76.9861</td>\n",
              "      <td>RentLingo</td>\n",
              "      <td>1577359415</td>\n",
              "    </tr>\n",
              "    <tr>\n",
              "      <th>1</th>\n",
              "      <td>5664597177</td>\n",
              "      <td>housing/rent/apartment</td>\n",
              "      <td>Studio apartment 814 Schutte Road</td>\n",
              "      <td>This unit is located at 814 Schutte Road, Evan...</td>\n",
              "      <td>NaN</td>\n",
              "      <td>NaN</td>\n",
              "      <td>1.0</td>\n",
              "      <td>USD</td>\n",
              "      <td>No</td>\n",
              "      <td>Thumbnail</td>\n",
              "      <td>...</td>\n",
              "      <td>$425</td>\n",
              "      <td>Monthly</td>\n",
              "      <td>106</td>\n",
              "      <td>814 Schutte Rd</td>\n",
              "      <td>Evansville</td>\n",
              "      <td>IN</td>\n",
              "      <td>37.9680</td>\n",
              "      <td>-87.6621</td>\n",
              "      <td>RentLingo</td>\n",
              "      <td>1577017063</td>\n",
              "    </tr>\n",
              "    <tr>\n",
              "      <th>2</th>\n",
              "      <td>5668626833</td>\n",
              "      <td>housing/rent/apartment</td>\n",
              "      <td>Studio apartment N Scott St, 14th St N, Arling...</td>\n",
              "      <td>This unit is located at N Scott St, 14th St N,...</td>\n",
              "      <td>NaN</td>\n",
              "      <td>1.0</td>\n",
              "      <td>0.0</td>\n",
              "      <td>USD</td>\n",
              "      <td>No</td>\n",
              "      <td>Thumbnail</td>\n",
              "      <td>...</td>\n",
              "      <td>$1,390</td>\n",
              "      <td>Monthly</td>\n",
              "      <td>107</td>\n",
              "      <td>NaN</td>\n",
              "      <td>Arlington</td>\n",
              "      <td>VA</td>\n",
              "      <td>38.8910</td>\n",
              "      <td>-77.0816</td>\n",
              "      <td>RentLingo</td>\n",
              "      <td>1577359410</td>\n",
              "    </tr>\n",
              "    <tr>\n",
              "      <th>3</th>\n",
              "      <td>5659918074</td>\n",
              "      <td>housing/rent/apartment</td>\n",
              "      <td>Studio apartment 1717 12th Ave</td>\n",
              "      <td>This unit is located at 1717 12th Ave, Seattle...</td>\n",
              "      <td>NaN</td>\n",
              "      <td>1.0</td>\n",
              "      <td>0.0</td>\n",
              "      <td>USD</td>\n",
              "      <td>No</td>\n",
              "      <td>Thumbnail</td>\n",
              "      <td>...</td>\n",
              "      <td>$925</td>\n",
              "      <td>Monthly</td>\n",
              "      <td>116</td>\n",
              "      <td>1717 12th Avenue</td>\n",
              "      <td>Seattle</td>\n",
              "      <td>WA</td>\n",
              "      <td>47.6160</td>\n",
              "      <td>-122.3275</td>\n",
              "      <td>RentLingo</td>\n",
              "      <td>1576667743</td>\n",
              "    </tr>\n",
              "    <tr>\n",
              "      <th>4</th>\n",
              "      <td>5668626759</td>\n",
              "      <td>housing/rent/apartment</td>\n",
              "      <td>Studio apartment Washington Blvd, N Cleveland ...</td>\n",
              "      <td>This unit is located at Washington Blvd, N Cle...</td>\n",
              "      <td>NaN</td>\n",
              "      <td>NaN</td>\n",
              "      <td>0.0</td>\n",
              "      <td>USD</td>\n",
              "      <td>No</td>\n",
              "      <td>Thumbnail</td>\n",
              "      <td>...</td>\n",
              "      <td>$880</td>\n",
              "      <td>Monthly</td>\n",
              "      <td>125</td>\n",
              "      <td>NaN</td>\n",
              "      <td>Arlington</td>\n",
              "      <td>VA</td>\n",
              "      <td>38.8738</td>\n",
              "      <td>-77.1055</td>\n",
              "      <td>RentLingo</td>\n",
              "      <td>1577359401</td>\n",
              "    </tr>\n",
              "  </tbody>\n",
              "</table>\n",
              "<p>5 rows × 22 columns</p>\n",
              "</div>\n",
              "    <div class=\"colab-df-buttons\">\n",
              "\n",
              "  <div class=\"colab-df-container\">\n",
              "    <button class=\"colab-df-convert\" onclick=\"convertToInteractive('df-bd7f10ed-d022-42ce-b644-aca3f6792c92')\"\n",
              "            title=\"Convert this dataframe to an interactive table.\"\n",
              "            style=\"display:none;\">\n",
              "\n",
              "  <svg xmlns=\"http://www.w3.org/2000/svg\" height=\"24px\" viewBox=\"0 -960 960 960\">\n",
              "    <path d=\"M120-120v-720h720v720H120Zm60-500h600v-160H180v160Zm220 220h160v-160H400v160Zm0 220h160v-160H400v160ZM180-400h160v-160H180v160Zm440 0h160v-160H620v160ZM180-180h160v-160H180v160Zm440 0h160v-160H620v160Z\"/>\n",
              "  </svg>\n",
              "    </button>\n",
              "\n",
              "  <style>\n",
              "    .colab-df-container {\n",
              "      display:flex;\n",
              "      gap: 12px;\n",
              "    }\n",
              "\n",
              "    .colab-df-convert {\n",
              "      background-color: #E8F0FE;\n",
              "      border: none;\n",
              "      border-radius: 50%;\n",
              "      cursor: pointer;\n",
              "      display: none;\n",
              "      fill: #1967D2;\n",
              "      height: 32px;\n",
              "      padding: 0 0 0 0;\n",
              "      width: 32px;\n",
              "    }\n",
              "\n",
              "    .colab-df-convert:hover {\n",
              "      background-color: #E2EBFA;\n",
              "      box-shadow: 0px 1px 2px rgba(60, 64, 67, 0.3), 0px 1px 3px 1px rgba(60, 64, 67, 0.15);\n",
              "      fill: #174EA6;\n",
              "    }\n",
              "\n",
              "    .colab-df-buttons div {\n",
              "      margin-bottom: 4px;\n",
              "    }\n",
              "\n",
              "    [theme=dark] .colab-df-convert {\n",
              "      background-color: #3B4455;\n",
              "      fill: #D2E3FC;\n",
              "    }\n",
              "\n",
              "    [theme=dark] .colab-df-convert:hover {\n",
              "      background-color: #434B5C;\n",
              "      box-shadow: 0px 1px 3px 1px rgba(0, 0, 0, 0.15);\n",
              "      filter: drop-shadow(0px 1px 2px rgba(0, 0, 0, 0.3));\n",
              "      fill: #FFFFFF;\n",
              "    }\n",
              "  </style>\n",
              "\n",
              "    <script>\n",
              "      const buttonEl =\n",
              "        document.querySelector('#df-bd7f10ed-d022-42ce-b644-aca3f6792c92 button.colab-df-convert');\n",
              "      buttonEl.style.display =\n",
              "        google.colab.kernel.accessAllowed ? 'block' : 'none';\n",
              "\n",
              "      async function convertToInteractive(key) {\n",
              "        const element = document.querySelector('#df-bd7f10ed-d022-42ce-b644-aca3f6792c92');\n",
              "        const dataTable =\n",
              "          await google.colab.kernel.invokeFunction('convertToInteractive',\n",
              "                                                    [key], {});\n",
              "        if (!dataTable) return;\n",
              "\n",
              "        const docLinkHtml = 'Like what you see? Visit the ' +\n",
              "          '<a target=\"_blank\" href=https://colab.research.google.com/notebooks/data_table.ipynb>data table notebook</a>'\n",
              "          + ' to learn more about interactive tables.';\n",
              "        element.innerHTML = '';\n",
              "        dataTable['output_type'] = 'display_data';\n",
              "        await google.colab.output.renderOutput(dataTable, element);\n",
              "        const docLink = document.createElement('div');\n",
              "        docLink.innerHTML = docLinkHtml;\n",
              "        element.appendChild(docLink);\n",
              "      }\n",
              "    </script>\n",
              "  </div>\n",
              "\n",
              "\n",
              "<div id=\"df-4548f3a3-8667-4fa8-aaa8-021cd4fe561e\">\n",
              "  <button class=\"colab-df-quickchart\" onclick=\"quickchart('df-4548f3a3-8667-4fa8-aaa8-021cd4fe561e')\"\n",
              "            title=\"Suggest charts\"\n",
              "            style=\"display:none;\">\n",
              "\n",
              "<svg xmlns=\"http://www.w3.org/2000/svg\" height=\"24px\"viewBox=\"0 0 24 24\"\n",
              "     width=\"24px\">\n",
              "    <g>\n",
              "        <path d=\"M19 3H5c-1.1 0-2 .9-2 2v14c0 1.1.9 2 2 2h14c1.1 0 2-.9 2-2V5c0-1.1-.9-2-2-2zM9 17H7v-7h2v7zm4 0h-2V7h2v10zm4 0h-2v-4h2v4z\"/>\n",
              "    </g>\n",
              "</svg>\n",
              "  </button>\n",
              "\n",
              "<style>\n",
              "  .colab-df-quickchart {\n",
              "      --bg-color: #E8F0FE;\n",
              "      --fill-color: #1967D2;\n",
              "      --hover-bg-color: #E2EBFA;\n",
              "      --hover-fill-color: #174EA6;\n",
              "      --disabled-fill-color: #AAA;\n",
              "      --disabled-bg-color: #DDD;\n",
              "  }\n",
              "\n",
              "  [theme=dark] .colab-df-quickchart {\n",
              "      --bg-color: #3B4455;\n",
              "      --fill-color: #D2E3FC;\n",
              "      --hover-bg-color: #434B5C;\n",
              "      --hover-fill-color: #FFFFFF;\n",
              "      --disabled-bg-color: #3B4455;\n",
              "      --disabled-fill-color: #666;\n",
              "  }\n",
              "\n",
              "  .colab-df-quickchart {\n",
              "    background-color: var(--bg-color);\n",
              "    border: none;\n",
              "    border-radius: 50%;\n",
              "    cursor: pointer;\n",
              "    display: none;\n",
              "    fill: var(--fill-color);\n",
              "    height: 32px;\n",
              "    padding: 0;\n",
              "    width: 32px;\n",
              "  }\n",
              "\n",
              "  .colab-df-quickchart:hover {\n",
              "    background-color: var(--hover-bg-color);\n",
              "    box-shadow: 0 1px 2px rgba(60, 64, 67, 0.3), 0 1px 3px 1px rgba(60, 64, 67, 0.15);\n",
              "    fill: var(--button-hover-fill-color);\n",
              "  }\n",
              "\n",
              "  .colab-df-quickchart-complete:disabled,\n",
              "  .colab-df-quickchart-complete:disabled:hover {\n",
              "    background-color: var(--disabled-bg-color);\n",
              "    fill: var(--disabled-fill-color);\n",
              "    box-shadow: none;\n",
              "  }\n",
              "\n",
              "  .colab-df-spinner {\n",
              "    border: 2px solid var(--fill-color);\n",
              "    border-color: transparent;\n",
              "    border-bottom-color: var(--fill-color);\n",
              "    animation:\n",
              "      spin 1s steps(1) infinite;\n",
              "  }\n",
              "\n",
              "  @keyframes spin {\n",
              "    0% {\n",
              "      border-color: transparent;\n",
              "      border-bottom-color: var(--fill-color);\n",
              "      border-left-color: var(--fill-color);\n",
              "    }\n",
              "    20% {\n",
              "      border-color: transparent;\n",
              "      border-left-color: var(--fill-color);\n",
              "      border-top-color: var(--fill-color);\n",
              "    }\n",
              "    30% {\n",
              "      border-color: transparent;\n",
              "      border-left-color: var(--fill-color);\n",
              "      border-top-color: var(--fill-color);\n",
              "      border-right-color: var(--fill-color);\n",
              "    }\n",
              "    40% {\n",
              "      border-color: transparent;\n",
              "      border-right-color: var(--fill-color);\n",
              "      border-top-color: var(--fill-color);\n",
              "    }\n",
              "    60% {\n",
              "      border-color: transparent;\n",
              "      border-right-color: var(--fill-color);\n",
              "    }\n",
              "    80% {\n",
              "      border-color: transparent;\n",
              "      border-right-color: var(--fill-color);\n",
              "      border-bottom-color: var(--fill-color);\n",
              "    }\n",
              "    90% {\n",
              "      border-color: transparent;\n",
              "      border-bottom-color: var(--fill-color);\n",
              "    }\n",
              "  }\n",
              "</style>\n",
              "\n",
              "  <script>\n",
              "    async function quickchart(key) {\n",
              "      const quickchartButtonEl =\n",
              "        document.querySelector('#' + key + ' button');\n",
              "      quickchartButtonEl.disabled = true;  // To prevent multiple clicks.\n",
              "      quickchartButtonEl.classList.add('colab-df-spinner');\n",
              "      try {\n",
              "        const charts = await google.colab.kernel.invokeFunction(\n",
              "            'suggestCharts', [key], {});\n",
              "      } catch (error) {\n",
              "        console.error('Error during call to suggestCharts:', error);\n",
              "      }\n",
              "      quickchartButtonEl.classList.remove('colab-df-spinner');\n",
              "      quickchartButtonEl.classList.add('colab-df-quickchart-complete');\n",
              "    }\n",
              "    (() => {\n",
              "      let quickchartButtonEl =\n",
              "        document.querySelector('#df-4548f3a3-8667-4fa8-aaa8-021cd4fe561e button');\n",
              "      quickchartButtonEl.style.display =\n",
              "        google.colab.kernel.accessAllowed ? 'block' : 'none';\n",
              "    })();\n",
              "  </script>\n",
              "</div>\n",
              "\n",
              "    </div>\n",
              "  </div>\n"
            ],
            "application/vnd.google.colaboratory.intrinsic+json": {
              "type": "dataframe",
              "variable_name": "df"
            }
          },
          "metadata": {},
          "execution_count": 4
        }
      ]
    },
    {
      "cell_type": "code",
      "source": [
        "%pip install -qU langchain langchain-openai langchain-community langchain-experimental pandas"
      ],
      "metadata": {
        "colab": {
          "base_uri": "https://localhost:8080/"
        },
        "id": "0pjGGRS4IUSN",
        "outputId": "0992c395-bc5d-46fd-e8ae-572a8919138a"
      },
      "execution_count": 6,
      "outputs": [
        {
          "output_type": "stream",
          "name": "stdout",
          "text": [
            "\u001b[2K     \u001b[90m━━━━━━━━━━━━━━━━━━━━━━━━━━━━━━━━━━━━━━━━\u001b[0m \u001b[32m89.9/89.9 kB\u001b[0m \u001b[31m2.5 MB/s\u001b[0m eta \u001b[36m0:00:00\u001b[0m\n",
            "\u001b[2K     \u001b[90m━━━━━━━━━━━━━━━━━━━━━━━━━━━━━━━━━━━━━━━━\u001b[0m \u001b[32m50.4/50.4 kB\u001b[0m \u001b[31m3.0 MB/s\u001b[0m eta \u001b[36m0:00:00\u001b[0m\n",
            "\u001b[2K   \u001b[90m━━━━━━━━━━━━━━━━━━━━━━━━━━━━━━━━━━━━━━━━\u001b[0m \u001b[32m1.0/1.0 MB\u001b[0m \u001b[31m17.8 MB/s\u001b[0m eta \u001b[36m0:00:00\u001b[0m\n",
            "\u001b[2K   \u001b[90m━━━━━━━━━━━━━━━━━━━━━━━━━━━━━━━━━━━━━━━━\u001b[0m \u001b[32m49.7/49.7 kB\u001b[0m \u001b[31m3.2 MB/s\u001b[0m eta \u001b[36m0:00:00\u001b[0m\n",
            "\u001b[2K   \u001b[90m━━━━━━━━━━━━━━━━━━━━━━━━━━━━━━━━━━━━━━━━\u001b[0m \u001b[32m2.4/2.4 MB\u001b[0m \u001b[31m47.9 MB/s\u001b[0m eta \u001b[36m0:00:00\u001b[0m\n",
            "\u001b[2K   \u001b[90m━━━━━━━━━━━━━━━━━━━━━━━━━━━━━━━━━━━━━━━━\u001b[0m \u001b[32m208.1/208.1 kB\u001b[0m \u001b[31m12.7 MB/s\u001b[0m eta \u001b[36m0:00:00\u001b[0m\n",
            "\u001b[2K   \u001b[90m━━━━━━━━━━━━━━━━━━━━━━━━━━━━━━━━━━━━━━━━\u001b[0m \u001b[32m13.1/13.1 MB\u001b[0m \u001b[31m83.3 MB/s\u001b[0m eta \u001b[36m0:00:00\u001b[0m\n",
            "\u001b[2K   \u001b[90m━━━━━━━━━━━━━━━━━━━━━━━━━━━━━━━━━━━━━━━━\u001b[0m \u001b[32m404.4/404.4 kB\u001b[0m \u001b[31m23.8 MB/s\u001b[0m eta \u001b[36m0:00:00\u001b[0m\n",
            "\u001b[2K   \u001b[90m━━━━━━━━━━━━━━━━━━━━━━━━━━━━━━━━━━━━━━━━\u001b[0m \u001b[32m295.8/295.8 kB\u001b[0m \u001b[31m19.6 MB/s\u001b[0m eta \u001b[36m0:00:00\u001b[0m\n",
            "\u001b[2K   \u001b[90m━━━━━━━━━━━━━━━━━━━━━━━━━━━━━━━━━━━━━━━━\u001b[0m \u001b[32m383.7/383.7 kB\u001b[0m \u001b[31m19.5 MB/s\u001b[0m eta \u001b[36m0:00:00\u001b[0m\n",
            "\u001b[2K   \u001b[90m━━━━━━━━━━━━━━━━━━━━━━━━━━━━━━━━━━━━━━━━\u001b[0m \u001b[32m1.2/1.2 MB\u001b[0m \u001b[31m48.1 MB/s\u001b[0m eta \u001b[36m0:00:00\u001b[0m\n",
            "\u001b[2K   \u001b[90m━━━━━━━━━━━━━━━━━━━━━━━━━━━━━━━━━━━━━━━━\u001b[0m \u001b[32m76.4/76.4 kB\u001b[0m \u001b[31m5.3 MB/s\u001b[0m eta \u001b[36m0:00:00\u001b[0m\n",
            "\u001b[2K   \u001b[90m━━━━━━━━━━━━━━━━━━━━━━━━━━━━━━━━━━━━━━━━\u001b[0m \u001b[32m78.0/78.0 kB\u001b[0m \u001b[31m4.9 MB/s\u001b[0m eta \u001b[36m0:00:00\u001b[0m\n",
            "\u001b[2K   \u001b[90m━━━━━━━━━━━━━━━━━━━━━━━━━━━━━━━━━━━━━━━━\u001b[0m \u001b[32m325.2/325.2 kB\u001b[0m \u001b[31m20.5 MB/s\u001b[0m eta \u001b[36m0:00:00\u001b[0m\n",
            "\u001b[2K   \u001b[90m━━━━━━━━━━━━━━━━━━━━━━━━━━━━━━━━━━━━━━━━\u001b[0m \u001b[32m49.3/49.3 kB\u001b[0m \u001b[31m3.3 MB/s\u001b[0m eta \u001b[36m0:00:00\u001b[0m\n",
            "\u001b[2K   \u001b[90m━━━━━━━━━━━━━━━━━━━━━━━━━━━━━━━━━━━━━━━━\u001b[0m \u001b[32m141.9/141.9 kB\u001b[0m \u001b[31m9.4 MB/s\u001b[0m eta \u001b[36m0:00:00\u001b[0m\n",
            "\u001b[2K   \u001b[90m━━━━━━━━━━━━━━━━━━━━━━━━━━━━━━━━━━━━━━━━\u001b[0m \u001b[32m54.5/54.5 kB\u001b[0m \u001b[31m3.6 MB/s\u001b[0m eta \u001b[36m0:00:00\u001b[0m\n",
            "\u001b[2K   \u001b[90m━━━━━━━━━━━━━━━━━━━━━━━━━━━━━━━━━━━━━━━━\u001b[0m \u001b[32m58.3/58.3 kB\u001b[0m \u001b[31m3.6 MB/s\u001b[0m eta \u001b[36m0:00:00\u001b[0m\n",
            "\u001b[?25h\u001b[31mERROR: pip's dependency resolver does not currently take into account all the packages that are installed. This behaviour is the source of the following dependency conflicts.\n",
            "cudf-cu12 24.6.1 requires pandas<2.2.3dev0,>=2.0, but you have pandas 2.2.3 which is incompatible.\n",
            "google-colab 1.0.0 requires pandas==2.2.2, but you have pandas 2.2.3 which is incompatible.\u001b[0m\u001b[31m\n",
            "\u001b[0m"
          ]
        }
      ]
    },
    {
      "cell_type": "code",
      "source": [
        "%%capture --no-stderr\n",
        "%pip install --upgrade --quiet langchain langchain-community langchain-openai faiss-cpu"
      ],
      "metadata": {
        "id": "tlUYRxVuhcSn"
      },
      "execution_count": 41,
      "outputs": []
    },
    {
      "cell_type": "code",
      "source": [
        "from langchain_community.utilities import SQLDatabase\n",
        "from sqlalchemy import create_engine\n",
        "\n",
        "engine = create_engine(\"sqlite:///properties.db\")\n",
        "df.to_sql(\"properties\", engine, index=False)"
      ],
      "metadata": {
        "colab": {
          "base_uri": "https://localhost:8080/"
        },
        "id": "xPgAgA4ZIwhI",
        "outputId": "94f04d1f-fd96-42ef-89fe-ab435567f259"
      },
      "execution_count": 7,
      "outputs": [
        {
          "output_type": "execute_result",
          "data": {
            "text/plain": [
              "10000"
            ]
          },
          "metadata": {},
          "execution_count": 7
        }
      ]
    },
    {
      "cell_type": "code",
      "source": [
        "db = SQLDatabase(engine=engine)\n",
        "print(db.dialect)\n",
        "print(db.get_usable_table_names())\n",
        "db.run(\"SELECT * FROM properties WHERE cityname = 'Seattle' limit 3;\")"
      ],
      "metadata": {
        "colab": {
          "base_uri": "https://localhost:8080/",
          "height": 214
        },
        "id": "vOhU20AXI7Bo",
        "outputId": "b656e353-b774-4a4f-a8bd-7b753c0c6fdc"
      },
      "execution_count": 8,
      "outputs": [
        {
          "output_type": "stream",
          "name": "stdout",
          "text": [
            "sqlite\n",
            "['properties']\n"
          ]
        },
        {
          "output_type": "execute_result",
          "data": {
            "text/plain": [
              "\"[(5659918074, 'housing/rent/apartment', 'Studio apartment 1717 12th Ave', 'This unit is located at 1717 12th Ave, Seattle, 98122, WAMonthly rental rates range from $925We have studio units available for rent', None, 1.0, 0.0, 'USD', 'No', 'Thumbnail', None, 925, '$925', 'Monthly', 116, '1717 12th Avenue', 'Seattle', 'WA', 47.616, -122.3275, 'RentLingo', 1576667743), (5668634310, 'housing/rent/apartment', 'Studio apartment 6921 Roosevelt Way NE', 'This unit is located at 6921 Roosevelt Way NE, Seattle, 98115, WAMonthly rental rates range from $1195We have studio units available for rent', None, 1.0, 0.0, 'USD', 'No', 'Thumbnail', 'Cats,Dogs', 1195, '$1,195', 'Monthly', 223, '6921 Roosevelt Way NE', 'Seattle', 'WA', 47.616, -122.3275, 'RentLingo', 1577359975), (5668640879, 'housing/rent/apartment', 'Studio apartment 714 N. 95th St.', 'This unit is located at 714 N. 95th St., Seattle, 98103, WAMonthly rental rates range from $1150We have studio units available for rent', None, 1.0, 0.0, 'USD', 'No', 'Thumbnail', None, 1150, '$1,150', 'Monthly', 225, '714 N 95th St', 'Seattle', 'WA', 47.616, -122.3275, 'RentLingo', 1577360412)]\""
            ],
            "application/vnd.google.colaboratory.intrinsic+json": {
              "type": "string"
            }
          },
          "metadata": {},
          "execution_count": 8
        }
      ]
    },
    {
      "cell_type": "code",
      "source": [
        "from langchain_community.agent_toolkits import create_sql_agent\n",
        "from langchain_openai import ChatOpenAI\n",
        "\n",
        "llm = ChatOpenAI(model=\"gpt-3.5-turbo\", temperature=0)\n",
        "agent_executor = create_sql_agent(llm, db=db, agent_type=\"openai-tools\", verbose=True, return_intermediate_steps=True)"
      ],
      "metadata": {
        "id": "Pyz0gWQgIKj6"
      },
      "execution_count": 36,
      "outputs": []
    },
    {
      "cell_type": "code",
      "source": [],
      "metadata": {
        "id": "yFHsq4NneDHD"
      },
      "execution_count": 36,
      "outputs": []
    },
    {
      "cell_type": "code",
      "source": [
        "result = agent_executor.invoke({\"input\": \"Give all the properties in the Arlington with 2bhk\"})"
      ],
      "metadata": {
        "colab": {
          "base_uri": "https://localhost:8080/"
        },
        "id": "UZLV4tQ_IQGf",
        "outputId": "1accc0a1-d0a7-45a0-8386-bd8f157bf60c"
      },
      "execution_count": 37,
      "outputs": [
        {
          "output_type": "stream",
          "name": "stdout",
          "text": [
            "\n",
            "\n",
            "\u001b[1m> Entering new SQL Agent Executor chain...\u001b[0m\n",
            "\u001b[32;1m\u001b[1;3m\n",
            "Invoking: `sql_db_list_tables` with `{}`\n",
            "\n",
            "\n",
            "\u001b[0m\u001b[38;5;200m\u001b[1;3mproperties\u001b[0m\u001b[32;1m\u001b[1;3m\n",
            "Invoking: `sql_db_schema` with `{'table_names': 'properties'}`\n",
            "\n",
            "\n",
            "\u001b[0m\u001b[33;1m\u001b[1;3m\n",
            "CREATE TABLE properties (\n",
            "\tid BIGINT, \n",
            "\tcategory TEXT, \n",
            "\ttitle TEXT, \n",
            "\tbody TEXT, \n",
            "\tamenities TEXT, \n",
            "\tbathrooms FLOAT, \n",
            "\tbedrooms FLOAT, \n",
            "\tcurrency TEXT, \n",
            "\tfee TEXT, \n",
            "\thas_photo TEXT, \n",
            "\tpets_allowed TEXT, \n",
            "\tprice BIGINT, \n",
            "\tprice_display TEXT, \n",
            "\tprice_type TEXT, \n",
            "\tsquare_feet BIGINT, \n",
            "\taddress TEXT, \n",
            "\tcityname TEXT, \n",
            "\tstate TEXT, \n",
            "\tlatitude FLOAT, \n",
            "\tlongitude FLOAT, \n",
            "\tsource TEXT, \n",
            "\ttime BIGINT\n",
            ")\n",
            "\n",
            "/*\n",
            "3 rows from properties table:\n",
            "id\tcategory\ttitle\tbody\tamenities\tbathrooms\tbedrooms\tcurrency\tfee\thas_photo\tpets_allowed\tprice\tprice_display\tprice_type\tsquare_feet\taddress\tcityname\tstate\tlatitude\tlongitude\tsource\ttime\n",
            "5668626895\thousing/rent/apartment\tStudio apartment 2nd St NE, Uhland Terrace NE, Washington, DC 20002\tThis unit is located at second St NE, Uhland Terrace NE, Washington, DC 20002, Washington, 20002, DC\tNone\tNone\t0.0\tUSD\tNo\tThumbnail\tNone\t790\t$790\tMonthly\t101\tNone\tWashington\tDC\t38.9057\t-76.9861\tRentLingo\t1577359415\n",
            "5664597177\thousing/rent/apartment\tStudio apartment 814 Schutte Road\tThis unit is located at 814 Schutte Road, Evansville, 47712, INMonthly rental rates range from $425 \tNone\tNone\t1.0\tUSD\tNo\tThumbnail\tNone\t425\t$425\tMonthly\t106\t814 Schutte Rd\tEvansville\tIN\t37.968\t-87.6621\tRentLingo\t1577017063\n",
            "5668626833\thousing/rent/apartment\tStudio apartment N Scott St, 14th St N, Arlington, VA 22209\tThis unit is located at N Scott St, 14th St N, Arlington, VA 22209, Arlington, 22209, VAMonthly rent\tNone\t1.0\t0.0\tUSD\tNo\tThumbnail\tNone\t1390\t$1,390\tMonthly\t107\tNone\tArlington\tVA\t38.891\t-77.0816\tRentLingo\t1577359410\n",
            "*/\u001b[0m\u001b[32;1m\u001b[1;3m\n",
            "Invoking: `sql_db_query` with `{'query': \"SELECT * FROM properties WHERE cityname = 'Arlington' AND bedrooms = 2\"}`\n",
            "\n",
            "\n",
            "\u001b[0m\u001b[36;1m\u001b[1;3m[(5668624600, 'housing/rent/apartment', 'Studio apartment 815 18th St S', 'This unit is located at 815 18th St S, Arlington, 22202, VAMonthly rental rates range from $1549 - $2024We have studio - 2 beds units available for rent Apartment features include:-- On-Site Laundry- Dishwasher- Fitness facilities- Refrigerator- On Bus Line', 'Dishwasher,Refrigerator', 1.0, 2.0, 'USD', 'No', 'Thumbnail', 'Cats,Dogs', 1549, '$1,549', 'Monthly', 431, '815 18th St S', 'Arlington', 'VA', 38.8738, -77.1055, 'RentLingo', 1577359252), (5668613886, 'housing/rent/apartment', 'Studio apartment 1919 Clarendon Blvd', 'This unit is located at 1919 Clarendon Blvd, Arlington, 22201, VAMonthly rental rates range from $2100 - $3060We have studio - 2 beds units available for rent Apartment features include:-- Balcony, Deck, Patio- A/c- Dishwasher- Refrigerator- Fitness facilities- Living Room- Sheltered parking-...', 'Cable or Satellite,Dishwasher,Internet Access,Parking,Patio/Deck,Pool,Refrigerator', 1.0, 2.0, 'USD', 'No', 'Thumbnail', 'Cats,Dogs', 2100, '$2,100', 'Monthly', 533, '1919 Clarendon Boulevard', 'Arlington', 'VA', 38.8738, -77.1055, 'RentLingo', 1577358561), (5668613880, 'housing/rent/apartment', 'Studio apartment 1351 N Rolfe St', 'This unit is located at 1351 N Rolfe St, Arlington, 22209, VAMonthly rental rates range from $2150 - $4365We have studio - 2 beds units available for rent Apartment features include:-- Business facility- Fitness facilities- Air conditioned- Pool', 'Pool', 1.0, 2.0, 'USD', 'No', 'Thumbnail', 'Cats,Dogs', 2150, '$2,150', 'Monthly', 535, '1351 N Rolfe St', 'Arlington', 'VA', 38.8738, -77.1055, 'RentLingo', 1577358561), (5668613955, 'housing/rent/apartment', 'Studio apartment 505 18th Street South', 'This unit is located at 505 18th Street South, Arlington, 22202, VAMonthly rental rates range from $1953 - $2663We have studio - 2 beds units available for rent Apartment features include:-- On Bus Line- Business facility- Fitness facilities- Sheltered parking', 'Parking', 1.0, 2.0, 'USD', 'No', 'Thumbnail', 'Cats,Dogs', 1953, '$1,953', 'Monthly', 568, '505 18th St South', 'Arlington', 'VA', 38.8738, -77.1055, 'RentLingo', 1577358567), (5509079183, 'housing/rent/apartment', 'Discover a new Aire Apartments in Arlington.', 'The location of this community Tharp. in the area of Arlington. Make a visit to check out the current floor plan options. A unique variety of amenities and features are waiting for community. Enjoy a beautiful swimming pool, 3 clothes care centers, great outdoor landscaping and be close to...', 'Pool', 1.0, 2.0, 'USD', 'No', 'Thumbnail', None, 814, '$814', 'Monthly', 690, None, 'Arlington', 'TX', 32.722, -97.083, 'RentDigs.com', 1568772228), (5664578065, 'housing/rent/apartment', 'Two BR 308 S W St', 'This unit is located at 308 S W St, Arlington, 76010, TXMonthly rental rates range from $895We have 2 beds units available for rent Apartment available amenities:-- Surface Parking- Living Room- Range / Oven- Refrigerator- Water Included- On-Site Laundry- Trash Removal Included- Air conditioner', 'Cable or Satellite,Parking,Refrigerator', 1.0, 2.0, 'USD', 'No', 'Thumbnail', 'Cats,Dogs', 895, '$895', 'Monthly', 718, '308 S W St', 'Arlington', 'TX', 32.7025, -97.1196, 'RentLingo', 1577015616), (5509093080, 'housing/rent/apartment', 'Convenient location Two BR One BA for rent', 'Feel the energy of the GRIDs vibrant social scene and irresistible, 1 of the newest additions to this one-of-a-kind master community. Step outside your door into the center of Arlington with effortless connection to major highways, giving you instant access to all the hottest social scenes,...', 'Gym,Parking', 1.0, 2.0, 'USD', 'No', 'Thumbnail', None, 1025, '$1,025', 'Monthly', 803, None, 'Arlington', 'TX', 32.7583, -97.088, 'RentDigs.com', 1568772955), (5509091562, 'housing/rent/apartment', 'One BA $1,025/mo Arlington - must see to believe. Pet OK!', 'Feel the energy of the GRIDs vibrant social scene and irresistible, 1 of the newest additions to this one-of-a-kind master community. Step outside your door into the center of Arlington with effortless connection to major highways, giving you instant access to all the hottest social scenes,...', 'Gym,Parking', 1.0, 2.0, 'USD', 'No', 'Thumbnail', 'Cats,Dogs', 1025, '$1,025', 'Monthly', 803, None, 'Arlington', 'TX', 32.7583, -97.088, 'RentDigs.com', 1568772874), (5509088880, 'housing/rent/apartment', '$1,025/mo - in a great area.', 'Feel the energy of the GRIDs vibrant social scene and irresistible, 1 of the newest additions to this one-of-a-kind master community. Step outside your door into the center of Arlington with effortless connection to major highways, giving you instant access to all the hottest social scenes,...', 'Gym,Parking', 1.0, 2.0, 'USD', 'No', 'Yes', None, 1025, '$1,025', 'Monthly', 803, None, 'Arlington', 'TX', 32.7583, -97.088, 'RentDigs.com', 1568772720), (5509119574, 'housing/rent/apartment', 'Outstanding Opportunity To Live At The Arlington City Club', 'Square footage: 823 square ft, unit number: 2535. Providence in the Park Apartment Homes lives up to its name, situated on wooded acreage in the heart of Arlington with towering trees, beautiful gardens and open space galore. But don t let this picturesque setting fool you we re just minutes to...', 'AC,Clubhouse,Dishwasher,Fireplace,Garbage Disposal,Gated,Gym,Parking,Patio/Deck,Storage', 1.0, 2.0, 'USD', 'No', 'Yes', 'Cats,Dogs', 1280, '$1,280', 'Monthly', 823, None, 'Arlington', 'TX', 32.6924, -97.1324, 'RentDigs.com', 1568774403), (5509089456, 'housing/rent/apartment', 'Arlington, prime location Two BR, Apartment', 'Square footage: 876 sq-ft, unit number: 511. Apartments in Arlington, Texas offers residents exceptional design, energized living, and extraordinary beauty. Our apartment community provides a variety of distinctive 1 and 2 beds apartment homes that accommodate a number of lifestyles and income...', 'Parking,Patio/Deck,Pool,Storage', 2.0, 2.0, 'USD', 'No', 'Yes', None, 1180, '$1,180', 'Monthly', 876, None, 'Arlington', 'TX', 32.7583, -97.088, 'RentDigs.com', 1568772754), (5509093636, 'housing/rent/apartment', 'Two BR, Two BA, safe neighborhood', 'Square footage: 876 sq-ft, unit number: 1307. Apartments in Arlington, Texas offers residents exceptional design, energized living, and extraordinary beauty. Our apartment community provides a variety of distinctive 1 and 2 beds apartment homes that accommodate a number of lifestyles and income...', 'Parking,Patio/Deck,Pool,Storage', 2.0, 2.0, 'USD', 'No', 'Thumbnail', None, 1180, '$1,180', 'Monthly', 876, None, 'Arlington', 'TX', 32.7583, -97.088, 'RentDigs.com', 1568772995), (5509127925, 'housing/rent/apartment', 'Two BR Apartment - Large & Bright', 'Welcome home , a serene apartment community offering beautiful one, two, and three beds apartment homes. Our units feature private patios and balconies, generous walk-in closets, fully equipped kitchens, in-home washer dryer hookups, and a spacious, open design, creating the ideal space for both...', 'Gym,Hot Tub,Parking,Playground,Pool,Washer Dryer', 2.0, 2.0, 'USD', 'No', 'Thumbnail', None, 1169, '$1,169', 'Monthly', 876, None, 'Arlington', 'TX', 32.6548, -97.1587, 'RentDigs.com', 1568774860), (5509108550, 'housing/rent/apartment', 'Apartment only for $1,112/mo. You Can Stop Looking Now. Single Car Garage!', 'Square footage: 882 sq. feet, unit number: 1224. Introducing an exciting new Park Apartment Homes, a brilliant community designed just for you. Beautiful landscaped grounds, a variety of resident privileges, and striking homes with amazing interiors define a distinctive living experience. Enjoy...', 'Parking', 1.0, 2.0, 'USD', 'No', 'No', None, 1112, '$1,112', 'Monthly', 882, None, 'Arlington', 'TX', 32.696, -97.0878, 'RentDigs.com', 1568773866), (5509080503, 'housing/rent/apartment', 'Treat yourself to a beautiful living Pointe. Pet OK!', 'Featuring pets allowed 1 and 2 beds apartment homes in Arlington, Texas, we have the right space for your needs. Each home is equipped with energy saving kitchen appliances, chic hardwood-style flooring, and a private balcony or patio for a touch of outdoor space all your own. Conveniently...', 'Patio/Deck', 2.0, 2.0, 'USD', 'No', 'Yes', 'Cats,Dogs', 1015, '$1,015', 'Monthly', 883, None, 'Arlington', 'TX', 32.722, -97.083, 'RentDigs.com', 1568772288), (5509133643, 'housing/rent/apartment', '$1,275/mo, Apartment - convenient location.', 'Square footage: 926 sq-ft, unit number: 1804. Situated in a beautiful growing area of south Arlington, Villa is located within minutes to The, Paragon Outlets, Arlington s, fine dining restaurants and I-20. Villa offers graceful living with 1 and 2 beds apartment homes each with its own...', 'Gym,Internet Access,Parking', 1.0, 2.0, 'USD', 'No', 'Thumbnail', None, 1275, '$1,275', 'Monthly', 926, None, 'Arlington', 'TX', 32.6548, -97.1587, 'RentDigs.com', 1568775167), (5509070702, 'housing/rent/apartment', 'Over 960 sf in Arlington. Pet OK!', 'Live the life of style, comfort, and Apartment Living in Arlington, TX. This spectacular community offers spacious 1 and 2 beds apartment homes situated in the heart of Arlington, just minutes from 6 Flags, the new Ballpark, DFW Airport, and UTA. Exceptional by design. Located in the \"Heart\" of...', 'Fireplace,Gym,Hot Tub,Pool,Storage,Washer Dryer', 2.0, 2.0, 'USD', 'No', 'Thumbnail', 'Cats,Dogs', 1015, '$1,015', 'Monthly', 960, None, 'Arlington', 'TX', 32.7767, -97.0816, 'RentDigs.com', 1568771745), (5509134442, 'housing/rent/apartment', 'Two BR, Two BA, safe neighborhood', 'Square footage: 961 sq. feet, unit number: 1112. Welcome home , a serene apartment community offering beautiful one, two, and three beds apartment homes. Our units feature private patios and balconies, generous walk-in closets, fully equipped kitchens, in-home washer and dryer hookups, and a...', 'Gym,Hot Tub,Parking,Playground,Pool,Washer Dryer', 2.0, 2.0, 'USD', 'No', 'Thumbnail', None, 1394, '$1,394', 'Monthly', 961, None, 'Arlington', 'TX', 32.6548, -97.1587, 'RentDigs.com', 1568775237), (5509070025, 'housing/rent/apartment', 'Move-in condition, Two BR Two BA', 'is located in the heart of Arlington and surrounded by some of the cities greatest attractions. Within a five-mile radius you will find some of the best trails, shopping, schools and restaurants that this city has to offer. Income Requirement: Must have 3. 0x the rent in total household income...', 'Parking', 2.0, 2.0, 'USD', 'No', 'Yes', None, 1060, '$1,060', 'Monthly', 976, None, 'Arlington', 'TX', 32.7767, -97.0816, 'RentDigs.com', 1568771694), (5509069119, 'housing/rent/apartment', 'Move-in condition, Two BR Two BA', 'Square footage: 986 sq-ft, unit number: 31-3112-EP. When you come home after a long day, youre looking for rest and relaxation, thats exactly what youll get day in and day Hudson Apartment Homes. Youll love entertaining friends in our plush community club house or enjoy a friendly game with your...', 'Clubhouse,Gym,Parking,Tennis', 2.0, 2.0, 'USD', 'No', 'Thumbnail', None, 1245, '$1,245', 'Monthly', 986, None, 'Arlington', 'TX', 32.7767, -97.0816, 'RentDigs.com', 1568771619), (5509094905, 'housing/rent/apartment', 'Welcome to the Stadium West Apartments!', 'Love Where You Live! At Stadium West Apartments, our 1st priority is making our residents spacious two beds apartments offer balconies, fireplaces, dishwashers and more. Our pets allowed community is equipped with ample parking, grill and picnic area, great outdoor landscaping and a neighborly...', 'Dishwasher,Fireplace', 2.0, 2.0, 'USD', 'No', 'Yes', None, 920, '$920', 'Monthly', 988, None, 'Arlington', 'TX', 32.7583, -97.088, 'RentDigs.com', 1568773067), (5509113967, 'housing/rent/apartment', 'The Best of the Best in the City of Arlington! Save Big!', 'Enjoy a life of. on lush, landscaped grounds, our community offers an extensive amenities package to help you make the most of your downtime. Kick back and soak up the resort-style swimming pool, complete with stunning and comfortable designer lounge furniture. Make a night of it and bring along...', 'Fireplace,Pool', 1.5, 2.0, 'USD', 'No', 'No', None, 1290, '$1,290', 'Monthly', 993, None, 'Arlington', 'TX', 32.6924, -97.1324, 'RentDigs.com', 1568774133), (5509128699, 'housing/rent/apartment', 'Move-in condition, Two BR Two BA', 'Square footage: 1050 square feet, unit number: 0707. Located in Arlington and part of the Dallas-Fort Worth Metroplex, Wimbledon Oaks offers one- and 2 beds newly upgraded apartment homes in a variety of floor plans featuring large patios, enclosed sunrooms, customized cabinets, designer...', 'Gym,Parking,Pool', 2.0, 2.0, 'USD', 'No', 'Thumbnail', None, 1275, '$1,275', 'Monthly', 1050, None, 'Arlington', 'TX', 32.6548, -97.1587, 'RentDigs.com', 1568774899), (5509119719, 'housing/rent/apartment', 'Arlington - superb Apartment nearby fine dining. Single Car Garage!', 'Square footage: 1052 square feet, unit number: 1634. Providence in the Park Apartment Homes lives up to its name, situated on wooded acreage in the heart of Arlington with towering trees, beautiful gardens and open space galore. But don t let this picturesque setting fool you we re just minutes...', 'AC,Clubhouse,Dishwasher,Fireplace,Garbage Disposal,Gated,Gym,Parking,Patio/Deck,Storage', 2.0, 2.0, 'USD', 'No', 'Thumbnail', 'Cats,Dogs', 1265, '$1,265', 'Monthly', 1052, None, 'Arlington', 'TX', 32.6924, -97.1324, 'RentDigs.com', 1568774413), (5509117628, 'housing/rent/apartment', 'Arlington, Two BR, Two BA for rent', 'Square footage: 1082 sq-ft, unit number: 0437. Welcome to Franciscan Of Arlington Exceeding Your Expectations with Extraordinary Living in a Centralized Location Experience the desirable luxury apartment homes that The Franciscan of Arlington has to offer! Our elegant apartments in Arlington,...', 'Clubhouse,Gym,Hot Tub', 2.0, 2.0, 'USD', 'No', 'Yes', None, 1395, '$1,395', 'Monthly', 1082, None, 'Arlington', 'TX', 32.6924, -97.1324, 'RentDigs.com', 1568774309), (5509104127, 'housing/rent/apartment', 'This Apartment is a must see. Pet OK!', 'Square footage: 1095 sq-ft, unit number: 136. Woodland Park offers a lifestyle full of new friendships, activity and wide open spaces. Our recently remodeled community offers an awesome swimming pool complete with pergola, clubroom, play-area, grill areas and much more. Yes, you are going to...', 'Parking,Playground,Pool,Storage', 1.5, 2.0, 'USD', 'No', 'Yes', 'Cats,Dogs', 1217, '$1,217', 'Monthly', 1095, None, 'Arlington', 'TX', 32.7192, -97.1513, 'RentDigs.com', 1568773618), (5508984544, 'housing/rent/apartment', 'WELL MAINTAINED Two BR, One BA WITH HARDWOOD FLOORS. 2 Car Garage!', 'BIG LIVING ROOM, DEDICATED DINING AREA ROOM AREA THAT GETS PLENTY OF SUNLIGHT. NEW KITCHEN WITH FRIDGE, STOVE, DISHWASHER/DISPOSAL INCLUDED. PANTRY. HAS GAS HEAT AND UP-TO-DATE WINDOWS. BACKYARD/PORCH FOR USE AND HAS. PARKING WITH one GARAGE SPOT! HAS STORAGE AND WASHER & DRYER HOOKUPS IN THE...', 'Dishwasher,Parking,Patio/Deck,Refrigerator,Storage,Washer Dryer,Wood Floors', 1.0, 2.0, 'USD', 'No', 'Yes', None, 2200, '$2,200', 'Monthly', 1100, None, 'Arlington', 'MA', 42.418, -71.1669, 'RentDigs.com', 1568765337), (5509060594, 'housing/rent/apartment', 'Gorgeous Arlington, Two BR, Two BA', 'Jordan Creek is home to comfortable and spacious apartments in Arlington, TX. The community is showing 1 and 2 beds floor plans with plenty of features to give you an exciting living environment. The kitchens all include space for a breakfast area on the expansive countertops and convenient...', 'Clubhouse,Dishwasher,Gated,Gym,Parking,Pool,Storage', 2.0, 2.0, 'USD', 'No', 'Thumbnail', None, 1225, '$1,225', 'Monthly', 1120, None, 'Arlington', 'TX', 32.7767, -97.0816, 'RentDigs.com', 1568771077), (5509130110, 'housing/rent/apartment', 'Lease Spacious 2+2. Approx 1,158 sf of Living Space!', 'Square footage: 1158 square feet, unit number: 922. Welcome home , a serene apartment community offering beautiful one, two, and three beds apartment homes. Our units feature private patios and balconies, generous walk-in closets, fully equipped kitchens, in-home washer & dryer hookups, and a...', 'Gym,Hot Tub,Parking,Playground,Pool,Washer Dryer', 2.0, 2.0, 'USD', 'No', 'Thumbnail', None, 1454, '$1,454', 'Monthly', 1158, None, 'Arlington', 'TX', 32.6548, -97.1587, 'RentDigs.com', 1568774977)]\u001b[0m\u001b[32;1m\u001b[1;3mHere are some properties in Arlington with 2 bedrooms:\n",
            "\n",
            "1. Property: Studio apartment 815 18th St S\n",
            "   - Address: 815 18th St S, Arlington, VA 22202\n",
            "   - Price: $1,549 per month\n",
            "   - Amenities: On-Site Laundry, Dishwasher, Fitness facilities, Refrigerator\n",
            "\n",
            "2. Property: Studio apartment 1919 Clarendon Blvd\n",
            "   - Address: 1919 Clarendon Blvd, Arlington, VA 22201\n",
            "   - Price: $2,100 per month\n",
            "   - Amenities: Balcony, Deck, Patio, A/c, Dishwasher, Refrigerator, Fitness facilities\n",
            "\n",
            "3. Property: Studio apartment 1351 N Rolfe St\n",
            "   - Address: 1351 N Rolfe St, Arlington, VA 22209\n",
            "   - Price: $2,150 per month\n",
            "   - Amenities: Business facility, Fitness facilities, Air conditioned, Pool\n",
            "\n",
            "4. Property: Studio apartment 505 18th Street South\n",
            "   - Address: 505 18th Street South, Arlington, VA 22202\n",
            "   - Price: $1,953 per month\n",
            "   - Amenities: On Bus Line, Business facility, Fitness facilities, Sheltered parking\n",
            "\n",
            "5. Property: Two BR 308 S W St\n",
            "   - Address: 308 S W St, Arlington, TX 76010\n",
            "   - Price: $895 per month\n",
            "   - Amenities: Surface Parking, Living Room, Range / Oven, Refrigerator, Water Included, On-Site Laundry, Trash Removal Included, Air conditioner\n",
            "\n",
            "Please let me know if you need more information.\u001b[0m\n",
            "\n",
            "\u001b[1m> Finished chain.\u001b[0m\n"
          ]
        }
      ]
    },
    {
      "cell_type": "code",
      "source": [
        "import json\n",
        "result[\"output\"]"
      ],
      "metadata": {
        "colab": {
          "base_uri": "https://localhost:8080/",
          "height": 178
        },
        "id": "ilfIiHJKJBAM",
        "outputId": "2e660cc4-6d94-4c58-b355-7968a1a73ec3"
      },
      "execution_count": 38,
      "outputs": [
        {
          "output_type": "execute_result",
          "data": {
            "text/plain": [
              "'Here are some properties in Arlington with 2 bedrooms:\\n\\n1. Property: Studio apartment 815 18th St S\\n   - Address: 815 18th St S, Arlington, VA 22202\\n   - Price: $1,549 per month\\n   - Amenities: On-Site Laundry, Dishwasher, Fitness facilities, Refrigerator\\n\\n2. Property: Studio apartment 1919 Clarendon Blvd\\n   - Address: 1919 Clarendon Blvd, Arlington, VA 22201\\n   - Price: $2,100 per month\\n   - Amenities: Balcony, Deck, Patio, A/c, Dishwasher, Refrigerator, Fitness facilities\\n\\n3. Property: Studio apartment 1351 N Rolfe St\\n   - Address: 1351 N Rolfe St, Arlington, VA 22209\\n   - Price: $2,150 per month\\n   - Amenities: Business facility, Fitness facilities, Air conditioned, Pool\\n\\n4. Property: Studio apartment 505 18th Street South\\n   - Address: 505 18th Street South, Arlington, VA 22202\\n   - Price: $1,953 per month\\n   - Amenities: On Bus Line, Business facility, Fitness facilities, Sheltered parking\\n\\n5. Property: Two BR 308 S W St\\n   - Address: 308 S W St, Arlington, TX 76010\\n   - Price: $895 per month\\n   - Amenities: Surface Parking, Living Room, Range / Oven, Refrigerator, Water Included, On-Site Laundry, Trash Removal Included, Air conditioner\\n\\nPlease let me know if you need more information.'"
            ],
            "application/vnd.google.colaboratory.intrinsic+json": {
              "type": "string"
            }
          },
          "metadata": {},
          "execution_count": 38
        }
      ]
    },
    {
      "cell_type": "code",
      "source": [
        "result\n"
      ],
      "metadata": {
        "colab": {
          "base_uri": "https://localhost:8080/"
        },
        "id": "-rQmq3XaRcBb",
        "outputId": "dd94d450-3236-4349-f238-a7ea1b923a80"
      },
      "execution_count": 39,
      "outputs": [
        {
          "output_type": "execute_result",
          "data": {
            "text/plain": [
              "{'input': 'Give all the properties in the Arlington with 2bhk',\n",
              " 'output': 'Here are some properties in Arlington with 2 bedrooms:\\n\\n1. Property: Studio apartment 815 18th St S\\n   - Address: 815 18th St S, Arlington, VA 22202\\n   - Price: $1,549 per month\\n   - Amenities: On-Site Laundry, Dishwasher, Fitness facilities, Refrigerator\\n\\n2. Property: Studio apartment 1919 Clarendon Blvd\\n   - Address: 1919 Clarendon Blvd, Arlington, VA 22201\\n   - Price: $2,100 per month\\n   - Amenities: Balcony, Deck, Patio, A/c, Dishwasher, Refrigerator, Fitness facilities\\n\\n3. Property: Studio apartment 1351 N Rolfe St\\n   - Address: 1351 N Rolfe St, Arlington, VA 22209\\n   - Price: $2,150 per month\\n   - Amenities: Business facility, Fitness facilities, Air conditioned, Pool\\n\\n4. Property: Studio apartment 505 18th Street South\\n   - Address: 505 18th Street South, Arlington, VA 22202\\n   - Price: $1,953 per month\\n   - Amenities: On Bus Line, Business facility, Fitness facilities, Sheltered parking\\n\\n5. Property: Two BR 308 S W St\\n   - Address: 308 S W St, Arlington, TX 76010\\n   - Price: $895 per month\\n   - Amenities: Surface Parking, Living Room, Range / Oven, Refrigerator, Water Included, On-Site Laundry, Trash Removal Included, Air conditioner\\n\\nPlease let me know if you need more information.'}"
            ]
          },
          "metadata": {},
          "execution_count": 39
        }
      ]
    },
    {
      "cell_type": "code",
      "source": [],
      "metadata": {
        "id": "bQrbpgWAa3Ks"
      },
      "execution_count": null,
      "outputs": []
    },
    {
      "cell_type": "code",
      "source": [
        "from langchain_community.utilities import SQLDatabase\n",
        "\n",
        "db = SQLDatabase.from_uri(\"sqlite:///properties.db\")\n",
        "print(db.dialect)\n",
        "print(db.get_usable_table_names())\n",
        "db.run(\"SELECT * FROM properties LIMIT 10;\")"
      ],
      "metadata": {
        "colab": {
          "base_uri": "https://localhost:8080/",
          "height": 214
        },
        "id": "fE_yuM-mho7L",
        "outputId": "4a97c0fd-e83c-47b2-d103-6c3f806949bf"
      },
      "execution_count": 42,
      "outputs": [
        {
          "output_type": "stream",
          "name": "stdout",
          "text": [
            "sqlite\n",
            "['properties']\n"
          ]
        },
        {
          "output_type": "execute_result",
          "data": {
            "text/plain": [
              "\"[(5668626895, 'housing/rent/apartment', 'Studio apartment 2nd St NE, Uhland Terrace NE, Washington, DC 20002', 'This unit is located at second St NE, Uhland Terrace NE, Washington, DC 20002, Washington, 20002, DCMonthly rental rates range from $790 - $1090We have studio units available for rent', None, None, 0.0, 'USD', 'No', 'Thumbnail', None, 790, '$790', 'Monthly', 101, None, 'Washington', 'DC', 38.9057, -76.9861, 'RentLingo', 1577359415), (5664597177, 'housing/rent/apartment', 'Studio apartment 814 Schutte Road', 'This unit is located at 814 Schutte Road, Evansville, 47712, INMonthly rental rates range from $425 - $445We have studio - 1 beds units available for rent', None, None, 1.0, 'USD', 'No', 'Thumbnail', None, 425, '$425', 'Monthly', 106, '814 Schutte Rd', 'Evansville', 'IN', 37.968, -87.6621, 'RentLingo', 1577017063), (5668626833, 'housing/rent/apartment', 'Studio apartment N Scott St, 14th St N, Arlington, VA 22209', 'This unit is located at N Scott St, 14th St N, Arlington, VA 22209, Arlington, 22209, VAMonthly rental rates range from $1390We have studio units available for rent', None, 1.0, 0.0, 'USD', 'No', 'Thumbnail', None, 1390, '$1,390', 'Monthly', 107, None, 'Arlington', 'VA', 38.891, -77.0816, 'RentLingo', 1577359410), (5659918074, 'housing/rent/apartment', 'Studio apartment 1717 12th Ave', 'This unit is located at 1717 12th Ave, Seattle, 98122, WAMonthly rental rates range from $925We have studio units available for rent', None, 1.0, 0.0, 'USD', 'No', 'Thumbnail', None, 925, '$925', 'Monthly', 116, '1717 12th Avenue', 'Seattle', 'WA', 47.616, -122.3275, 'RentLingo', 1576667743), (5668626759, 'housing/rent/apartment', 'Studio apartment Washington Blvd, N Cleveland St, Arlington', 'This unit is located at Washington Blvd, N Cleveland St, Arlington, Arlington, 22201, VAMonthly rental rates range from $880We have studio units available for rent', None, None, 0.0, 'USD', 'No', 'Thumbnail', None, 880, '$880', 'Monthly', 125, None, 'Arlington', 'VA', 38.8738, -77.1055, 'RentLingo', 1577359401), (5667891676, 'housing/rent/apartment', '0 BR in New York NY 10019', '**RARE GEM WITH PRIVATE OUTDOOR TERRACE****AVAILABLE IMMEDIATELY** $2475 RENT IS NET EFFECTIVE WITH one month FREE ON $2700 Monthly rent***Low Fee*UNFURNISHED Spacious and Sunny Southern facing studio (403 sq-ft) with big private terrace (130 sq. feet) basks in natural sunlight all day long,...', 'Dishwasher,Elevator,Patio/Deck,Pool,Storage', 1.0, 0.0, 'USD', 'No', 'Thumbnail', None, 2475, '$2,475', 'Monthly', 130, '350 West 50th St', 'Manhattan', 'NY', 40.7629, -73.9885, 'Listanza', 1577289784), (5668627426, 'housing/rent/apartment', 'Studio apartment 2432 Penmar Ave', 'This unit is located at 2432 Penmar Ave, Venice, 90291, CAMonthly rental rates range from $1800We have studio units available for rent', None, None, 0.0, 'USD', 'No', 'Thumbnail', None, 1800, '$1,800', 'Monthly', 132, '2432 Penmar Avenue', 'Venice', 'CA', 33.9932, -118.4609, 'RentLingo', 1577359461), (5668626687, 'housing/rent/apartment', 'Studio apartment Oak St NW, 16th St NW, Washington, DC 20010', 'This unit is located at Oak St NW, 16th St NW, Washington, DC 20010, Washington, 20010, DCMonthly rental rates range from $840We have studio units available for rent', None, None, 0.0, 'USD', 'No', 'Thumbnail', None, 840, '$840', 'Monthly', 136, None, 'Washington', 'DC', 38.9328, -77.0297, 'RentLingo', 1577359393), (5668610290, 'housing/rent/apartment', 'Studio apartment 333 Hyde St', 'This unit is located at 333 Hyde St, San Francisco, 94109, CAMonthly rental rates range from $1495We have studio units available for rent Apartment features include:-- On Bus Line- Refrigerator', 'Refrigerator', 1.0, 0.0, 'USD', 'No', 'Thumbnail', None, 1495, '$1,495', 'Monthly', 138, '333 Hyde St', 'San Francisco', 'CA', 37.7599, -122.4379, 'RentLingo', 1577358313), (5668627023, 'housing/rent/apartment', 'Studio apartment A St SE, 19th St SE, Washington', 'This unit is located at A St SE, 19th St SE, Washington, Washington, 20003, DCMonthly rental rates range from $890We have studio units available for rent', None, None, 0.0, 'USD', 'No', 'Thumbnail', None, 890, '$890', 'Monthly', 141, None, 'Washington', 'DC', 38.9118, -77.0132, 'RentLingo', 1577359424)]\""
            ],
            "application/vnd.google.colaboratory.intrinsic+json": {
              "type": "string"
            }
          },
          "metadata": {},
          "execution_count": 42
        }
      ]
    },
    {
      "cell_type": "code",
      "source": [
        "%pip install -qU langchain-openai"
      ],
      "metadata": {
        "id": "ZPfAhtg1hpEO"
      },
      "execution_count": 43,
      "outputs": []
    },
    {
      "cell_type": "code",
      "source": [
        "from langchain_openai import ChatOpenAI\n",
        "\n",
        "llm = ChatOpenAI(model=\"gpt-3.5-turbo\")\n",
        "\n",
        "from langchain.chains import create_sql_query_chain\n",
        "\n",
        "chain = create_sql_query_chain(llm, db)\n"
      ],
      "metadata": {
        "colab": {
          "base_uri": "https://localhost:8080/",
          "height": 35
        },
        "id": "uw8kiXwmh-AT",
        "outputId": "5489dbad-77ee-44f2-88ee-9c5ec79906b7"
      },
      "execution_count": 65,
      "outputs": [
        {
          "output_type": "execute_result",
          "data": {
            "text/plain": [
              "'SELECT \"id\" \\nFROM properties \\nWHERE cityname = \\'Arlington\\' AND bedrooms = 2\\nLIMIT 5;'"
            ],
            "application/vnd.google.colaboratory.intrinsic+json": {
              "type": "string"
            }
          },
          "metadata": {},
          "execution_count": 65
        }
      ]
    },
    {
      "cell_type": "code",
      "source": [
        "query = \"Give all the properties in seatle with 2bhk which has parking\"\n",
        "response = chain.invoke({\"question\": \"Get ids of {query}\".format(query=query)})\n",
        "response"
      ],
      "metadata": {
        "colab": {
          "base_uri": "https://localhost:8080/",
          "height": 53
        },
        "id": "gSzNBFI3m9Tr",
        "outputId": "d8e29e1a-dfe7-4d76-b127-5be2116e216c"
      },
      "execution_count": 75,
      "outputs": [
        {
          "output_type": "execute_result",
          "data": {
            "text/plain": [
              "'SELECT \"id\"\\nFROM properties\\nWHERE cityname = \\'Seattle\\' AND bedrooms = 2 AND amenities LIKE \\'%parking%\\'\\nLIMIT 5;'"
            ],
            "application/vnd.google.colaboratory.intrinsic+json": {
              "type": "string"
            }
          },
          "metadata": {},
          "execution_count": 75
        }
      ]
    },
    {
      "cell_type": "code",
      "source": [
        "records = db.run(response)"
      ],
      "metadata": {
        "id": "CVjhROrPjFCW"
      },
      "execution_count": 76,
      "outputs": []
    },
    {
      "cell_type": "code",
      "source": [
        "records"
      ],
      "metadata": {
        "colab": {
          "base_uri": "https://localhost:8080/",
          "height": 35
        },
        "id": "_V1CpmKsnFbb",
        "outputId": "4791cb83-9623-4247-e3d4-74cfc23ae02b"
      },
      "execution_count": 77,
      "outputs": [
        {
          "output_type": "execute_result",
          "data": {
            "text/plain": [
              "'[(5668639228,)]'"
            ],
            "application/vnd.google.colaboratory.intrinsic+json": {
              "type": "string"
            }
          },
          "metadata": {},
          "execution_count": 77
        }
      ]
    },
    {
      "cell_type": "code",
      "source": [
        "import re\n",
        "id_numbers = [int(num) for num in re.findall(r'\\d+', records)]\n",
        "print(id_numbers)"
      ],
      "metadata": {
        "colab": {
          "base_uri": "https://localhost:8080/"
        },
        "id": "WrjQk5tMnXTq",
        "outputId": "af44e0d3-5f51-48af-dece-5b312231c191"
      },
      "execution_count": 72,
      "outputs": [
        {
          "output_type": "stream",
          "name": "stdout",
          "text": [
            "[5668624600, 5668613886, 5668613880, 5668613955, 5509079183]\n"
          ]
        }
      ]
    },
    {
      "cell_type": "code",
      "source": [],
      "metadata": {
        "id": "agyjydMTnf2P"
      },
      "execution_count": null,
      "outputs": []
    },
    {
      "cell_type": "code",
      "source": [
        "print(json.dumps(records, indent=2, default=str))"
      ],
      "metadata": {
        "colab": {
          "base_uri": "https://localhost:8080/"
        },
        "id": "RJSgRVcLlD5h",
        "outputId": "a7a52d9a-8e57-4be2-b874-7a1d12d8c11f"
      },
      "execution_count": 69,
      "outputs": [
        {
          "output_type": "stream",
          "name": "stdout",
          "text": [
            "\"[(5668624600,), (5668613886,), (5668613880,), (5668613955,), (5509079183,)]\"\n"
          ]
        }
      ]
    },
    {
      "cell_type": "code",
      "source": [
        "filtered_df = df[df['id'].isin(id_numbers)]\n",
        "filtered_df"
      ],
      "metadata": {
        "colab": {
          "base_uri": "https://localhost:8080/",
          "height": 620
        },
        "id": "O8RjLKDgm_nu",
        "outputId": "d2ac3304-31ad-4d79-deac-0ddf6231f5f8"
      },
      "execution_count": 74,
      "outputs": [
        {
          "output_type": "execute_result",
          "data": {
            "text/plain": [
              "              id                category  \\\n",
              "587   5668624600  housing/rent/apartment   \n",
              "1244  5668613886  housing/rent/apartment   \n",
              "1255  5668613880  housing/rent/apartment   \n",
              "1568  5668613955  housing/rent/apartment   \n",
              "3185  5509079183  housing/rent/apartment   \n",
              "\n",
              "                                             title  \\\n",
              "587                 Studio apartment 815 18th St S   \n",
              "1244          Studio apartment 1919 Clarendon Blvd   \n",
              "1255              Studio apartment 1351 N Rolfe St   \n",
              "1568        Studio apartment 505 18th Street South   \n",
              "3185  Discover a new Aire Apartments in Arlington.   \n",
              "\n",
              "                                                   body  \\\n",
              "587   This unit is located at 815 18th St S, Arlingt...   \n",
              "1244  This unit is located at 1919 Clarendon Blvd, A...   \n",
              "1255  This unit is located at 1351 N Rolfe St, Arlin...   \n",
              "1568  This unit is located at 505 18th Street South,...   \n",
              "3185  The location of this community Tharp. in the a...   \n",
              "\n",
              "                                              amenities  bathrooms  bedrooms  \\\n",
              "587                             Dishwasher,Refrigerator        1.0       2.0   \n",
              "1244  Cable or Satellite,Dishwasher,Internet Access,...        1.0       2.0   \n",
              "1255                                               Pool        1.0       2.0   \n",
              "1568                                            Parking        1.0       2.0   \n",
              "3185                                               Pool        1.0       2.0   \n",
              "\n",
              "     currency fee  has_photo  ... price_display  price_type square_feet  \\\n",
              "587       USD  No  Thumbnail  ...        $1,549     Monthly         431   \n",
              "1244      USD  No  Thumbnail  ...        $2,100     Monthly         533   \n",
              "1255      USD  No  Thumbnail  ...        $2,150     Monthly         535   \n",
              "1568      USD  No  Thumbnail  ...        $1,953     Monthly         568   \n",
              "3185      USD  No  Thumbnail  ...          $814     Monthly         690   \n",
              "\n",
              "                       address   cityname state latitude longitude  \\\n",
              "587              815 18th St S  Arlington    VA  38.8738  -77.1055   \n",
              "1244  1919 Clarendon Boulevard  Arlington    VA  38.8738  -77.1055   \n",
              "1255           1351 N Rolfe St  Arlington    VA  38.8738  -77.1055   \n",
              "1568         505 18th St South  Arlington    VA  38.8738  -77.1055   \n",
              "3185                       NaN  Arlington    TX  32.7220  -97.0830   \n",
              "\n",
              "            source        time  \n",
              "587      RentLingo  1577359252  \n",
              "1244     RentLingo  1577358561  \n",
              "1255     RentLingo  1577358561  \n",
              "1568     RentLingo  1577358567  \n",
              "3185  RentDigs.com  1568772228  \n",
              "\n",
              "[5 rows x 22 columns]"
            ],
            "text/html": [
              "\n",
              "  <div id=\"df-e2337daf-8968-4f22-9538-18757eb5a8d6\" class=\"colab-df-container\">\n",
              "    <div>\n",
              "<style scoped>\n",
              "    .dataframe tbody tr th:only-of-type {\n",
              "        vertical-align: middle;\n",
              "    }\n",
              "\n",
              "    .dataframe tbody tr th {\n",
              "        vertical-align: top;\n",
              "    }\n",
              "\n",
              "    .dataframe thead th {\n",
              "        text-align: right;\n",
              "    }\n",
              "</style>\n",
              "<table border=\"1\" class=\"dataframe\">\n",
              "  <thead>\n",
              "    <tr style=\"text-align: right;\">\n",
              "      <th></th>\n",
              "      <th>id</th>\n",
              "      <th>category</th>\n",
              "      <th>title</th>\n",
              "      <th>body</th>\n",
              "      <th>amenities</th>\n",
              "      <th>bathrooms</th>\n",
              "      <th>bedrooms</th>\n",
              "      <th>currency</th>\n",
              "      <th>fee</th>\n",
              "      <th>has_photo</th>\n",
              "      <th>...</th>\n",
              "      <th>price_display</th>\n",
              "      <th>price_type</th>\n",
              "      <th>square_feet</th>\n",
              "      <th>address</th>\n",
              "      <th>cityname</th>\n",
              "      <th>state</th>\n",
              "      <th>latitude</th>\n",
              "      <th>longitude</th>\n",
              "      <th>source</th>\n",
              "      <th>time</th>\n",
              "    </tr>\n",
              "  </thead>\n",
              "  <tbody>\n",
              "    <tr>\n",
              "      <th>587</th>\n",
              "      <td>5668624600</td>\n",
              "      <td>housing/rent/apartment</td>\n",
              "      <td>Studio apartment 815 18th St S</td>\n",
              "      <td>This unit is located at 815 18th St S, Arlingt...</td>\n",
              "      <td>Dishwasher,Refrigerator</td>\n",
              "      <td>1.0</td>\n",
              "      <td>2.0</td>\n",
              "      <td>USD</td>\n",
              "      <td>No</td>\n",
              "      <td>Thumbnail</td>\n",
              "      <td>...</td>\n",
              "      <td>$1,549</td>\n",
              "      <td>Monthly</td>\n",
              "      <td>431</td>\n",
              "      <td>815 18th St S</td>\n",
              "      <td>Arlington</td>\n",
              "      <td>VA</td>\n",
              "      <td>38.8738</td>\n",
              "      <td>-77.1055</td>\n",
              "      <td>RentLingo</td>\n",
              "      <td>1577359252</td>\n",
              "    </tr>\n",
              "    <tr>\n",
              "      <th>1244</th>\n",
              "      <td>5668613886</td>\n",
              "      <td>housing/rent/apartment</td>\n",
              "      <td>Studio apartment 1919 Clarendon Blvd</td>\n",
              "      <td>This unit is located at 1919 Clarendon Blvd, A...</td>\n",
              "      <td>Cable or Satellite,Dishwasher,Internet Access,...</td>\n",
              "      <td>1.0</td>\n",
              "      <td>2.0</td>\n",
              "      <td>USD</td>\n",
              "      <td>No</td>\n",
              "      <td>Thumbnail</td>\n",
              "      <td>...</td>\n",
              "      <td>$2,100</td>\n",
              "      <td>Monthly</td>\n",
              "      <td>533</td>\n",
              "      <td>1919 Clarendon Boulevard</td>\n",
              "      <td>Arlington</td>\n",
              "      <td>VA</td>\n",
              "      <td>38.8738</td>\n",
              "      <td>-77.1055</td>\n",
              "      <td>RentLingo</td>\n",
              "      <td>1577358561</td>\n",
              "    </tr>\n",
              "    <tr>\n",
              "      <th>1255</th>\n",
              "      <td>5668613880</td>\n",
              "      <td>housing/rent/apartment</td>\n",
              "      <td>Studio apartment 1351 N Rolfe St</td>\n",
              "      <td>This unit is located at 1351 N Rolfe St, Arlin...</td>\n",
              "      <td>Pool</td>\n",
              "      <td>1.0</td>\n",
              "      <td>2.0</td>\n",
              "      <td>USD</td>\n",
              "      <td>No</td>\n",
              "      <td>Thumbnail</td>\n",
              "      <td>...</td>\n",
              "      <td>$2,150</td>\n",
              "      <td>Monthly</td>\n",
              "      <td>535</td>\n",
              "      <td>1351 N Rolfe St</td>\n",
              "      <td>Arlington</td>\n",
              "      <td>VA</td>\n",
              "      <td>38.8738</td>\n",
              "      <td>-77.1055</td>\n",
              "      <td>RentLingo</td>\n",
              "      <td>1577358561</td>\n",
              "    </tr>\n",
              "    <tr>\n",
              "      <th>1568</th>\n",
              "      <td>5668613955</td>\n",
              "      <td>housing/rent/apartment</td>\n",
              "      <td>Studio apartment 505 18th Street South</td>\n",
              "      <td>This unit is located at 505 18th Street South,...</td>\n",
              "      <td>Parking</td>\n",
              "      <td>1.0</td>\n",
              "      <td>2.0</td>\n",
              "      <td>USD</td>\n",
              "      <td>No</td>\n",
              "      <td>Thumbnail</td>\n",
              "      <td>...</td>\n",
              "      <td>$1,953</td>\n",
              "      <td>Monthly</td>\n",
              "      <td>568</td>\n",
              "      <td>505 18th St South</td>\n",
              "      <td>Arlington</td>\n",
              "      <td>VA</td>\n",
              "      <td>38.8738</td>\n",
              "      <td>-77.1055</td>\n",
              "      <td>RentLingo</td>\n",
              "      <td>1577358567</td>\n",
              "    </tr>\n",
              "    <tr>\n",
              "      <th>3185</th>\n",
              "      <td>5509079183</td>\n",
              "      <td>housing/rent/apartment</td>\n",
              "      <td>Discover a new Aire Apartments in Arlington.</td>\n",
              "      <td>The location of this community Tharp. in the a...</td>\n",
              "      <td>Pool</td>\n",
              "      <td>1.0</td>\n",
              "      <td>2.0</td>\n",
              "      <td>USD</td>\n",
              "      <td>No</td>\n",
              "      <td>Thumbnail</td>\n",
              "      <td>...</td>\n",
              "      <td>$814</td>\n",
              "      <td>Monthly</td>\n",
              "      <td>690</td>\n",
              "      <td>NaN</td>\n",
              "      <td>Arlington</td>\n",
              "      <td>TX</td>\n",
              "      <td>32.7220</td>\n",
              "      <td>-97.0830</td>\n",
              "      <td>RentDigs.com</td>\n",
              "      <td>1568772228</td>\n",
              "    </tr>\n",
              "  </tbody>\n",
              "</table>\n",
              "<p>5 rows × 22 columns</p>\n",
              "</div>\n",
              "    <div class=\"colab-df-buttons\">\n",
              "\n",
              "  <div class=\"colab-df-container\">\n",
              "    <button class=\"colab-df-convert\" onclick=\"convertToInteractive('df-e2337daf-8968-4f22-9538-18757eb5a8d6')\"\n",
              "            title=\"Convert this dataframe to an interactive table.\"\n",
              "            style=\"display:none;\">\n",
              "\n",
              "  <svg xmlns=\"http://www.w3.org/2000/svg\" height=\"24px\" viewBox=\"0 -960 960 960\">\n",
              "    <path d=\"M120-120v-720h720v720H120Zm60-500h600v-160H180v160Zm220 220h160v-160H400v160Zm0 220h160v-160H400v160ZM180-400h160v-160H180v160Zm440 0h160v-160H620v160ZM180-180h160v-160H180v160Zm440 0h160v-160H620v160Z\"/>\n",
              "  </svg>\n",
              "    </button>\n",
              "\n",
              "  <style>\n",
              "    .colab-df-container {\n",
              "      display:flex;\n",
              "      gap: 12px;\n",
              "    }\n",
              "\n",
              "    .colab-df-convert {\n",
              "      background-color: #E8F0FE;\n",
              "      border: none;\n",
              "      border-radius: 50%;\n",
              "      cursor: pointer;\n",
              "      display: none;\n",
              "      fill: #1967D2;\n",
              "      height: 32px;\n",
              "      padding: 0 0 0 0;\n",
              "      width: 32px;\n",
              "    }\n",
              "\n",
              "    .colab-df-convert:hover {\n",
              "      background-color: #E2EBFA;\n",
              "      box-shadow: 0px 1px 2px rgba(60, 64, 67, 0.3), 0px 1px 3px 1px rgba(60, 64, 67, 0.15);\n",
              "      fill: #174EA6;\n",
              "    }\n",
              "\n",
              "    .colab-df-buttons div {\n",
              "      margin-bottom: 4px;\n",
              "    }\n",
              "\n",
              "    [theme=dark] .colab-df-convert {\n",
              "      background-color: #3B4455;\n",
              "      fill: #D2E3FC;\n",
              "    }\n",
              "\n",
              "    [theme=dark] .colab-df-convert:hover {\n",
              "      background-color: #434B5C;\n",
              "      box-shadow: 0px 1px 3px 1px rgba(0, 0, 0, 0.15);\n",
              "      filter: drop-shadow(0px 1px 2px rgba(0, 0, 0, 0.3));\n",
              "      fill: #FFFFFF;\n",
              "    }\n",
              "  </style>\n",
              "\n",
              "    <script>\n",
              "      const buttonEl =\n",
              "        document.querySelector('#df-e2337daf-8968-4f22-9538-18757eb5a8d6 button.colab-df-convert');\n",
              "      buttonEl.style.display =\n",
              "        google.colab.kernel.accessAllowed ? 'block' : 'none';\n",
              "\n",
              "      async function convertToInteractive(key) {\n",
              "        const element = document.querySelector('#df-e2337daf-8968-4f22-9538-18757eb5a8d6');\n",
              "        const dataTable =\n",
              "          await google.colab.kernel.invokeFunction('convertToInteractive',\n",
              "                                                    [key], {});\n",
              "        if (!dataTable) return;\n",
              "\n",
              "        const docLinkHtml = 'Like what you see? Visit the ' +\n",
              "          '<a target=\"_blank\" href=https://colab.research.google.com/notebooks/data_table.ipynb>data table notebook</a>'\n",
              "          + ' to learn more about interactive tables.';\n",
              "        element.innerHTML = '';\n",
              "        dataTable['output_type'] = 'display_data';\n",
              "        await google.colab.output.renderOutput(dataTable, element);\n",
              "        const docLink = document.createElement('div');\n",
              "        docLink.innerHTML = docLinkHtml;\n",
              "        element.appendChild(docLink);\n",
              "      }\n",
              "    </script>\n",
              "  </div>\n",
              "\n",
              "\n",
              "<div id=\"df-c0a89fcd-7c98-440e-9329-69ceb15169f7\">\n",
              "  <button class=\"colab-df-quickchart\" onclick=\"quickchart('df-c0a89fcd-7c98-440e-9329-69ceb15169f7')\"\n",
              "            title=\"Suggest charts\"\n",
              "            style=\"display:none;\">\n",
              "\n",
              "<svg xmlns=\"http://www.w3.org/2000/svg\" height=\"24px\"viewBox=\"0 0 24 24\"\n",
              "     width=\"24px\">\n",
              "    <g>\n",
              "        <path d=\"M19 3H5c-1.1 0-2 .9-2 2v14c0 1.1.9 2 2 2h14c1.1 0 2-.9 2-2V5c0-1.1-.9-2-2-2zM9 17H7v-7h2v7zm4 0h-2V7h2v10zm4 0h-2v-4h2v4z\"/>\n",
              "    </g>\n",
              "</svg>\n",
              "  </button>\n",
              "\n",
              "<style>\n",
              "  .colab-df-quickchart {\n",
              "      --bg-color: #E8F0FE;\n",
              "      --fill-color: #1967D2;\n",
              "      --hover-bg-color: #E2EBFA;\n",
              "      --hover-fill-color: #174EA6;\n",
              "      --disabled-fill-color: #AAA;\n",
              "      --disabled-bg-color: #DDD;\n",
              "  }\n",
              "\n",
              "  [theme=dark] .colab-df-quickchart {\n",
              "      --bg-color: #3B4455;\n",
              "      --fill-color: #D2E3FC;\n",
              "      --hover-bg-color: #434B5C;\n",
              "      --hover-fill-color: #FFFFFF;\n",
              "      --disabled-bg-color: #3B4455;\n",
              "      --disabled-fill-color: #666;\n",
              "  }\n",
              "\n",
              "  .colab-df-quickchart {\n",
              "    background-color: var(--bg-color);\n",
              "    border: none;\n",
              "    border-radius: 50%;\n",
              "    cursor: pointer;\n",
              "    display: none;\n",
              "    fill: var(--fill-color);\n",
              "    height: 32px;\n",
              "    padding: 0;\n",
              "    width: 32px;\n",
              "  }\n",
              "\n",
              "  .colab-df-quickchart:hover {\n",
              "    background-color: var(--hover-bg-color);\n",
              "    box-shadow: 0 1px 2px rgba(60, 64, 67, 0.3), 0 1px 3px 1px rgba(60, 64, 67, 0.15);\n",
              "    fill: var(--button-hover-fill-color);\n",
              "  }\n",
              "\n",
              "  .colab-df-quickchart-complete:disabled,\n",
              "  .colab-df-quickchart-complete:disabled:hover {\n",
              "    background-color: var(--disabled-bg-color);\n",
              "    fill: var(--disabled-fill-color);\n",
              "    box-shadow: none;\n",
              "  }\n",
              "\n",
              "  .colab-df-spinner {\n",
              "    border: 2px solid var(--fill-color);\n",
              "    border-color: transparent;\n",
              "    border-bottom-color: var(--fill-color);\n",
              "    animation:\n",
              "      spin 1s steps(1) infinite;\n",
              "  }\n",
              "\n",
              "  @keyframes spin {\n",
              "    0% {\n",
              "      border-color: transparent;\n",
              "      border-bottom-color: var(--fill-color);\n",
              "      border-left-color: var(--fill-color);\n",
              "    }\n",
              "    20% {\n",
              "      border-color: transparent;\n",
              "      border-left-color: var(--fill-color);\n",
              "      border-top-color: var(--fill-color);\n",
              "    }\n",
              "    30% {\n",
              "      border-color: transparent;\n",
              "      border-left-color: var(--fill-color);\n",
              "      border-top-color: var(--fill-color);\n",
              "      border-right-color: var(--fill-color);\n",
              "    }\n",
              "    40% {\n",
              "      border-color: transparent;\n",
              "      border-right-color: var(--fill-color);\n",
              "      border-top-color: var(--fill-color);\n",
              "    }\n",
              "    60% {\n",
              "      border-color: transparent;\n",
              "      border-right-color: var(--fill-color);\n",
              "    }\n",
              "    80% {\n",
              "      border-color: transparent;\n",
              "      border-right-color: var(--fill-color);\n",
              "      border-bottom-color: var(--fill-color);\n",
              "    }\n",
              "    90% {\n",
              "      border-color: transparent;\n",
              "      border-bottom-color: var(--fill-color);\n",
              "    }\n",
              "  }\n",
              "</style>\n",
              "\n",
              "  <script>\n",
              "    async function quickchart(key) {\n",
              "      const quickchartButtonEl =\n",
              "        document.querySelector('#' + key + ' button');\n",
              "      quickchartButtonEl.disabled = true;  // To prevent multiple clicks.\n",
              "      quickchartButtonEl.classList.add('colab-df-spinner');\n",
              "      try {\n",
              "        const charts = await google.colab.kernel.invokeFunction(\n",
              "            'suggestCharts', [key], {});\n",
              "      } catch (error) {\n",
              "        console.error('Error during call to suggestCharts:', error);\n",
              "      }\n",
              "      quickchartButtonEl.classList.remove('colab-df-spinner');\n",
              "      quickchartButtonEl.classList.add('colab-df-quickchart-complete');\n",
              "    }\n",
              "    (() => {\n",
              "      let quickchartButtonEl =\n",
              "        document.querySelector('#df-c0a89fcd-7c98-440e-9329-69ceb15169f7 button');\n",
              "      quickchartButtonEl.style.display =\n",
              "        google.colab.kernel.accessAllowed ? 'block' : 'none';\n",
              "    })();\n",
              "  </script>\n",
              "</div>\n",
              "\n",
              "  <div id=\"id_eba08eff-0f15-4db2-aa4a-e16b0e3afaae\">\n",
              "    <style>\n",
              "      .colab-df-generate {\n",
              "        background-color: #E8F0FE;\n",
              "        border: none;\n",
              "        border-radius: 50%;\n",
              "        cursor: pointer;\n",
              "        display: none;\n",
              "        fill: #1967D2;\n",
              "        height: 32px;\n",
              "        padding: 0 0 0 0;\n",
              "        width: 32px;\n",
              "      }\n",
              "\n",
              "      .colab-df-generate:hover {\n",
              "        background-color: #E2EBFA;\n",
              "        box-shadow: 0px 1px 2px rgba(60, 64, 67, 0.3), 0px 1px 3px 1px rgba(60, 64, 67, 0.15);\n",
              "        fill: #174EA6;\n",
              "      }\n",
              "\n",
              "      [theme=dark] .colab-df-generate {\n",
              "        background-color: #3B4455;\n",
              "        fill: #D2E3FC;\n",
              "      }\n",
              "\n",
              "      [theme=dark] .colab-df-generate:hover {\n",
              "        background-color: #434B5C;\n",
              "        box-shadow: 0px 1px 3px 1px rgba(0, 0, 0, 0.15);\n",
              "        filter: drop-shadow(0px 1px 2px rgba(0, 0, 0, 0.3));\n",
              "        fill: #FFFFFF;\n",
              "      }\n",
              "    </style>\n",
              "    <button class=\"colab-df-generate\" onclick=\"generateWithVariable('filtered_df')\"\n",
              "            title=\"Generate code using this dataframe.\"\n",
              "            style=\"display:none;\">\n",
              "\n",
              "  <svg xmlns=\"http://www.w3.org/2000/svg\" height=\"24px\"viewBox=\"0 0 24 24\"\n",
              "       width=\"24px\">\n",
              "    <path d=\"M7,19H8.4L18.45,9,17,7.55,7,17.6ZM5,21V16.75L18.45,3.32a2,2,0,0,1,2.83,0l1.4,1.43a1.91,1.91,0,0,1,.58,1.4,1.91,1.91,0,0,1-.58,1.4L9.25,21ZM18.45,9,17,7.55Zm-12,3A5.31,5.31,0,0,0,4.9,8.1,5.31,5.31,0,0,0,1,6.5,5.31,5.31,0,0,0,4.9,4.9,5.31,5.31,0,0,0,6.5,1,5.31,5.31,0,0,0,8.1,4.9,5.31,5.31,0,0,0,12,6.5,5.46,5.46,0,0,0,6.5,12Z\"/>\n",
              "  </svg>\n",
              "    </button>\n",
              "    <script>\n",
              "      (() => {\n",
              "      const buttonEl =\n",
              "        document.querySelector('#id_eba08eff-0f15-4db2-aa4a-e16b0e3afaae button.colab-df-generate');\n",
              "      buttonEl.style.display =\n",
              "        google.colab.kernel.accessAllowed ? 'block' : 'none';\n",
              "\n",
              "      buttonEl.onclick = () => {\n",
              "        google.colab.notebook.generateWithVariable('filtered_df');\n",
              "      }\n",
              "      })();\n",
              "    </script>\n",
              "  </div>\n",
              "\n",
              "    </div>\n",
              "  </div>\n"
            ],
            "application/vnd.google.colaboratory.intrinsic+json": {
              "type": "dataframe",
              "variable_name": "filtered_df"
            }
          },
          "metadata": {},
          "execution_count": 74
        }
      ]
    },
    {
      "cell_type": "code",
      "source": [],
      "metadata": {
        "id": "Ge_uhURKj18P"
      },
      "execution_count": null,
      "outputs": []
    }
  ]
}